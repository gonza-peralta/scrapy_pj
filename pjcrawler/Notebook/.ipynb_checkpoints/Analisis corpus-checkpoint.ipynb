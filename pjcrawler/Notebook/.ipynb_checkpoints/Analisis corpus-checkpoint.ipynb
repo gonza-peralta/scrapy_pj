{
 "cells": [
  {
   "cell_type": "markdown",
   "metadata": {},
   "source": [
    "## Cantidad de sentencias en el corpus"
   ]
  },
  {
   "cell_type": "code",
   "execution_count": 1,
   "metadata": {
    "collapsed": false
   },
   "outputs": [
    {
     "name": "stdout",
     "output_type": "stream",
     "text": [
      "*****Cantidad de sentencias*****\n",
      "20046\n"
     ]
    }
   ],
   "source": [
    "import pandas as pd\n",
    "corpus = pd.read_csv(\"output.csv\", delimiter=',', skip_blank_lines=True, encoding='utf-8')\n",
    "corpus = corpus.drop_duplicates()\n",
    "sentencias = corpus[\"sentencia\"]\n",
    "print(\"*****Cantidad de sentencias*****\")\n",
    "print(len(sentencias))"
   ]
  },
  {
   "cell_type": "markdown",
   "metadata": {},
   "source": [
    "## Cantidad de palabras de las sentencias del corpus"
   ]
  },
  {
   "cell_type": "code",
   "execution_count": 3,
   "metadata": {
    "collapsed": false
   },
   "outputs": [
    {
     "name": "stdout",
     "output_type": "stream",
     "text": [
      "*****Cantidad de palabras*****\n",
      "25913705\n"
     ]
    }
   ],
   "source": [
    "largo = sum(len(s.split()) for s in sentencias)\n",
    "print(\"*****Cantidad de palabras*****\")\n",
    "print(largo)"
   ]
  },
  {
   "cell_type": "markdown",
   "metadata": {},
   "source": [
    "## Cantidad de sentencias por nivel de importancia"
   ]
  },
  {
   "cell_type": "code",
   "execution_count": 4,
   "metadata": {
    "collapsed": false
   },
   "outputs": [
    {
     "data": {
      "text/plain": [
       "Counter({'ALTA': 10063, 'BAJA': 4206, 'MEDIA': 5777})"
      ]
     },
     "execution_count": 4,
     "metadata": {},
     "output_type": "execute_result"
    }
   ],
   "source": [
    "from collections import Counter\n",
    "Counter(corpus[\"importancia\"])"
   ]
  },
  {
   "cell_type": "markdown",
   "metadata": {},
   "source": [
    "## Cantidad de sentencias por procedimiento"
   ]
  },
  {
   "cell_type": "code",
   "execution_count": 5,
   "metadata": {
    "collapsed": false
   },
   "outputs": [
    {
     "data": {
      "text/plain": [
       "Counter({'CAUSA DIPLOMATICA': 81,\n",
       "         'CONTIENDA DE COMPETENCIA': 208,\n",
       "         'LESION DE AUTONOMIA': 6,\n",
       "         'OTROS': 620,\n",
       "         'PROCESO ADUANERO': 69,\n",
       "         'PROCESO ARBITRAL': 5,\n",
       "         'PROCESO CAUTELAR': 350,\n",
       "         'PROCESO CIVIL EXTRAORDINARIO': 1046,\n",
       "         'PROCESO CIVIL ORDINARIO': 7459,\n",
       "         'PROCESO CONCURSAL': 64,\n",
       "         'PROCESO DE AMPARO': 205,\n",
       "         'PROCESO DE EJECUCIÓN': 458,\n",
       "         'PROCESO DE INCONSTITUCIONALIDAD': 1311,\n",
       "         'PROCESO INCIDENTAL': 791,\n",
       "         'PROCESO MONITORIO': 661,\n",
       "         'PROCESO PENAL ESPECIAL': 82,\n",
       "         'PROCESO PENAL ORDINARIO': 3482,\n",
       "         'PROCESO PRELIMINAR': 85,\n",
       "         'PROCESO VOLUNTARIO': 115,\n",
       "         'RECONOCIMIENTO Y EJECUCION DE SENTENCIAS EXTRANJERAS (EXECUATUR)': 6,\n",
       "         'RECURSO DE ACLARACION Y AMPLIACION': 114,\n",
       "         'RECURSO DE CASACIÓN': 1514,\n",
       "         'RECURSO DE QUEJA': 764,\n",
       "         'RECURSO DE REPOSICION': 57,\n",
       "         'RECURSO DE REVISION': 126,\n",
       "         'REGULACION DE HONORARIOS': 323,\n",
       "         'SIN DATOS': 44})"
      ]
     },
     "execution_count": 5,
     "metadata": {},
     "output_type": "execute_result"
    }
   ],
   "source": [
    "Counter(corpus[\"procedimiento\"])"
   ]
  },
  {
   "cell_type": "code",
   "execution_count": 6,
   "metadata": {
    "collapsed": false
   },
   "outputs": [
    {
     "name": "stdout",
     "output_type": "stream",
     "text": [
      "*****Cantidad de sentencias con resumen*****\n"
     ]
    },
    {
     "data": {
      "text/plain": [
       "2240"
      ]
     },
     "execution_count": 6,
     "metadata": {},
     "output_type": "execute_result"
    }
   ],
   "source": [
    "print(\"*****Cantidad de sentencias con resumen*****\")\n",
    "len([x for x in corpus[\"resumen\"] if type(x) == str])\n"
   ]
  },
  {
   "cell_type": "markdown",
   "metadata": {},
   "source": [
    "## Verificar cual es la clave que identifica una sentencia"
   ]
  },
  {
   "cell_type": "markdown",
   "metadata": {},
   "source": [
    "Buscando clave que identifica cada sentencia, pruebo diferentes combinaciones"
   ]
  },
  {
   "cell_type": "code",
   "execution_count": 7,
   "metadata": {
    "collapsed": false
   },
   "outputs": [
    {
     "name": "stdout",
     "output_type": "stream",
     "text": [
      "0\n"
     ]
    }
   ],
   "source": [
    "\n",
    "l1 = corpus[\"numero\"]\n",
    "l2 = corpus[\"sede\"]\n",
    "l3 = corpus[\"ficha\"]\n",
    "l4 = corpus[\"fecha\"]\n",
    "l5 = corpus[\"tipo\"]\n",
    "l6 = corpus[\"importancia\"]\n",
    "\n",
    "l = [x for x in zip(l1, l2, l5)]\n",
    "dup = [item for item, count in Counter(l).items() if count > 1]\n",
    "print(len(dup))"
   ]
  },
  {
   "cell_type": "markdown",
   "metadata": {
    "collapsed": false
   },
   "source": [
    "## Tokenización usando nltk"
   ]
  },
  {
   "cell_type": "code",
   "execution_count": 8,
   "metadata": {
    "collapsed": false
   },
   "outputs": [],
   "source": [
    "from nltk import word_tokenize\n",
    "allwords = []\n",
    "for sentencia in corpus[\"sentencia\"]:\n",
    "    allwords += word_tokenize(sentencia)"
   ]
  },
  {
   "cell_type": "markdown",
   "metadata": {
    "collapsed": false
   },
   "source": [
    "## Limpio la tokenización quitando aquellos que no contienen letras o números"
   ]
  },
  {
   "cell_type": "code",
   "execution_count": 9,
   "metadata": {
    "collapsed": false
   },
   "outputs": [],
   "source": [
    "import re\n",
    "def is_non_alphanumeric(w):\n",
    "    return re.match(r'^\\W+$', w) != None\n",
    "words = [w for w in allwords if not is_non_alphanumeric(w)] "
   ]
  },
  {
   "cell_type": "markdown",
   "metadata": {
    "collapsed": false
   },
   "source": [
    "## Obtenemos la distribucion de la frecuencia"
   ]
  },
  {
   "cell_type": "code",
   "execution_count": 11,
   "metadata": {
    "collapsed": false
   },
   "outputs": [
    {
     "data": {
      "text/plain": [
       "[('de', 1794721),\n",
       " ('la', 1408924),\n",
       " ('en', 808342),\n",
       " ('el', 797232),\n",
       " ('que', 790837),\n",
       " ('y', 582662),\n",
       " ('a', 551166),\n",
       " ('por', 470024),\n",
       " ('del', 451776),\n",
       " ('se', 409383),\n",
       " ('no', 341346),\n",
       " ('los', 336907),\n",
       " ('lo', 208419),\n",
       " ('las', 200404),\n",
       " ('al', 197422),\n",
       " ('con', 163424),\n",
       " ('su', 155048),\n",
       " ('fs', 124295),\n",
       " ('es', 123913),\n",
       " ('para', 122704),\n",
       " ('un', 116392),\n",
       " ('como', 109254),\n",
       " ('sentencia', 109086),\n",
       " ('una', 100104),\n",
       " ('o', 89518),\n",
       " ('art', 86122),\n",
       " ('tribunal', 68184),\n",
       " ('autos', 66238),\n",
       " ('parte', 61768),\n",
       " ('instancia', 59255)]"
      ]
     },
     "execution_count": 11,
     "metadata": {},
     "output_type": "execute_result"
    }
   ],
   "source": [
    "import nltk\n",
    "freq_words = nltk.FreqDist(w.lower() for w in words)\n",
    "freq_words.most_common()[:30]"
   ]
  },
  {
   "cell_type": "code",
   "execution_count": null,
   "metadata": {
    "collapsed": true
   },
   "outputs": [],
   "source": []
  }
 ],
 "metadata": {
  "kernelspec": {
   "display_name": "Python [pjintropln]",
   "language": "python",
   "name": "Python [pjintropln]"
  },
  "language_info": {
   "codemirror_mode": {
    "name": "ipython",
    "version": 3
   },
   "file_extension": ".py",
   "mimetype": "text/x-python",
   "name": "python",
   "nbconvert_exporter": "python",
   "pygments_lexer": "ipython3",
   "version": "3.5.2"
  }
 },
 "nbformat": 4,
 "nbformat_minor": 0
}
